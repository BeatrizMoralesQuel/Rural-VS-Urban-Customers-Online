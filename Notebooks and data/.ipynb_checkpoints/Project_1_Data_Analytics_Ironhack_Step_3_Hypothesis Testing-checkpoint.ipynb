{
 "cells": [
  {
   "cell_type": "markdown",
   "id": "29400378",
   "metadata": {},
   "source": [
    "## Import Libraries & Load Data Set"
   ]
  },
  {
   "cell_type": "code",
   "execution_count": 2,
   "id": "8d2fa466",
   "metadata": {},
   "outputs": [],
   "source": [
    "import pandas as pd\n",
    "import numpy as np\n",
    "import scipy.stats as st\n",
    "import matplotlib.pyplot as plt\n",
    "import seaborn as sns"
   ]
  },
  {
   "cell_type": "code",
   "execution_count": 3,
   "id": "8b6a64a9",
   "metadata": {},
   "outputs": [
    {
     "name": "stderr",
     "output_type": "stream",
     "text": [
      "/var/folders/75/lxv2pt816y3g7mh_b0zy07mw0000gn/T/ipykernel_71244/2647096559.py:1: DtypeWarning: Columns (2) have mixed types. Specify dtype option on import or set low_memory=False.\n",
      "  data = pd.read_csv('sales_rural_urban.csv')\n"
     ]
    },
    {
     "data": {
      "text/html": [
       "<div>\n",
       "<style scoped>\n",
       "    .dataframe tbody tr th:only-of-type {\n",
       "        vertical-align: middle;\n",
       "    }\n",
       "\n",
       "    .dataframe tbody tr th {\n",
       "        vertical-align: top;\n",
       "    }\n",
       "\n",
       "    .dataframe thead th {\n",
       "        text-align: right;\n",
       "    }\n",
       "</style>\n",
       "<table border=\"1\" class=\"dataframe\">\n",
       "  <thead>\n",
       "    <tr style=\"text-align: right;\">\n",
       "      <th></th>\n",
       "      <th>zip</th>\n",
       "      <th>rural_urban</th>\n",
       "      <th>order_id</th>\n",
       "      <th>status</th>\n",
       "      <th>item_id</th>\n",
       "      <th>qty_ordered</th>\n",
       "      <th>price</th>\n",
       "      <th>value</th>\n",
       "      <th>discount_amount</th>\n",
       "      <th>discount_percent</th>\n",
       "      <th>...</th>\n",
       "      <th>middle_initial</th>\n",
       "      <th>last_name</th>\n",
       "      <th>gender</th>\n",
       "      <th>age</th>\n",
       "      <th>e_mail</th>\n",
       "      <th>place_name</th>\n",
       "      <th>county</th>\n",
       "      <th>city</th>\n",
       "      <th>state</th>\n",
       "      <th>region</th>\n",
       "    </tr>\n",
       "  </thead>\n",
       "  <tbody>\n",
       "    <tr>\n",
       "      <th>0</th>\n",
       "      <td>2889</td>\n",
       "      <td>urban</td>\n",
       "      <td>100354687</td>\n",
       "      <td>order_refunded</td>\n",
       "      <td>574790</td>\n",
       "      <td>2</td>\n",
       "      <td>2900.0</td>\n",
       "      <td>2900.0</td>\n",
       "      <td>0.0</td>\n",
       "      <td>0.0</td>\n",
       "      <td>...</td>\n",
       "      <td>K</td>\n",
       "      <td>Dewald</td>\n",
       "      <td>M</td>\n",
       "      <td>52</td>\n",
       "      <td>bernard.dewald@hotmail.co.uk</td>\n",
       "      <td>Warwick</td>\n",
       "      <td>Kent</td>\n",
       "      <td>Warwick</td>\n",
       "      <td>RI</td>\n",
       "      <td>Northeast</td>\n",
       "    </tr>\n",
       "    <tr>\n",
       "      <th>1</th>\n",
       "      <td>2889</td>\n",
       "      <td>urban</td>\n",
       "      <td>100356322</td>\n",
       "      <td>canceled</td>\n",
       "      <td>577804</td>\n",
       "      <td>2</td>\n",
       "      <td>1000.0</td>\n",
       "      <td>1000.0</td>\n",
       "      <td>0.0</td>\n",
       "      <td>0.0</td>\n",
       "      <td>...</td>\n",
       "      <td>K</td>\n",
       "      <td>Dewald</td>\n",
       "      <td>M</td>\n",
       "      <td>52</td>\n",
       "      <td>bernard.dewald@hotmail.co.uk</td>\n",
       "      <td>Warwick</td>\n",
       "      <td>Kent</td>\n",
       "      <td>Warwick</td>\n",
       "      <td>RI</td>\n",
       "      <td>Northeast</td>\n",
       "    </tr>\n",
       "    <tr>\n",
       "      <th>2</th>\n",
       "      <td>8076</td>\n",
       "      <td>urban</td>\n",
       "      <td>100354701</td>\n",
       "      <td>complete</td>\n",
       "      <td>574814</td>\n",
       "      <td>4</td>\n",
       "      <td>34.5</td>\n",
       "      <td>103.5</td>\n",
       "      <td>0.0</td>\n",
       "      <td>0.0</td>\n",
       "      <td>...</td>\n",
       "      <td>J</td>\n",
       "      <td>Stough</td>\n",
       "      <td>M</td>\n",
       "      <td>60</td>\n",
       "      <td>florentino.stough@gmail.com</td>\n",
       "      <td>Riverton</td>\n",
       "      <td>Burlington</td>\n",
       "      <td>Riverton</td>\n",
       "      <td>NJ</td>\n",
       "      <td>Northeast</td>\n",
       "    </tr>\n",
       "    <tr>\n",
       "      <th>3</th>\n",
       "      <td>3907</td>\n",
       "      <td>rural</td>\n",
       "      <td>100354729</td>\n",
       "      <td>order_refunded</td>\n",
       "      <td>574882</td>\n",
       "      <td>3</td>\n",
       "      <td>54.0</td>\n",
       "      <td>108.0</td>\n",
       "      <td>0.0</td>\n",
       "      <td>0.0</td>\n",
       "      <td>...</td>\n",
       "      <td>B</td>\n",
       "      <td>Cyphers</td>\n",
       "      <td>M</td>\n",
       "      <td>67</td>\n",
       "      <td>horacio.cyphers@hotmail.co.uk</td>\n",
       "      <td>Ogunquit</td>\n",
       "      <td>York</td>\n",
       "      <td>Ogunquit</td>\n",
       "      <td>ME</td>\n",
       "      <td>Northeast</td>\n",
       "    </tr>\n",
       "    <tr>\n",
       "      <th>4</th>\n",
       "      <td>5846</td>\n",
       "      <td>rural</td>\n",
       "      <td>100354759</td>\n",
       "      <td>received</td>\n",
       "      <td>574938</td>\n",
       "      <td>2</td>\n",
       "      <td>45.5</td>\n",
       "      <td>45.5</td>\n",
       "      <td>0.0</td>\n",
       "      <td>0.0</td>\n",
       "      <td>...</td>\n",
       "      <td>D</td>\n",
       "      <td>Fleet</td>\n",
       "      <td>F</td>\n",
       "      <td>37</td>\n",
       "      <td>fran.fleet@ibm.com</td>\n",
       "      <td>Island Pond</td>\n",
       "      <td>Essex</td>\n",
       "      <td>Island Pond</td>\n",
       "      <td>VT</td>\n",
       "      <td>Northeast</td>\n",
       "    </tr>\n",
       "  </tbody>\n",
       "</table>\n",
       "<p>5 rows × 30 columns</p>\n",
       "</div>"
      ],
      "text/plain": [
       "    zip rural_urban   order_id          status  item_id  qty_ordered   price  \\\n",
       "0  2889       urban  100354687  order_refunded   574790            2  2900.0   \n",
       "1  2889       urban  100356322        canceled   577804            2  1000.0   \n",
       "2  8076       urban  100354701        complete   574814            4    34.5   \n",
       "3  3907       rural  100354729  order_refunded   574882            3    54.0   \n",
       "4  5846       rural  100354759        received   574938            2    45.5   \n",
       "\n",
       "    value  discount_amount  discount_percent  ...  middle_initial last_name  \\\n",
       "0  2900.0              0.0               0.0  ...               K    Dewald   \n",
       "1  1000.0              0.0               0.0  ...               K    Dewald   \n",
       "2   103.5              0.0               0.0  ...               J    Stough   \n",
       "3   108.0              0.0               0.0  ...               B   Cyphers   \n",
       "4    45.5              0.0               0.0  ...               D     Fleet   \n",
       "\n",
       "  gender  age                         e_mail   place_name      county  \\\n",
       "0      M   52   bernard.dewald@hotmail.co.uk      Warwick        Kent   \n",
       "1      M   52   bernard.dewald@hotmail.co.uk      Warwick        Kent   \n",
       "2      M   60    florentino.stough@gmail.com     Riverton  Burlington   \n",
       "3      M   67  horacio.cyphers@hotmail.co.uk     Ogunquit        York   \n",
       "4      F   37             fran.fleet@ibm.com  Island Pond       Essex   \n",
       "\n",
       "          city state     region  \n",
       "0      Warwick    RI  Northeast  \n",
       "1      Warwick    RI  Northeast  \n",
       "2     Riverton    NJ  Northeast  \n",
       "3     Ogunquit    ME  Northeast  \n",
       "4  Island Pond    VT  Northeast  \n",
       "\n",
       "[5 rows x 30 columns]"
      ]
     },
     "execution_count": 3,
     "metadata": {},
     "output_type": "execute_result"
    }
   ],
   "source": [
    "data = pd.read_csv('sales_rural_urban.csv')\n",
    "data.head()"
   ]
  },
  {
   "cell_type": "markdown",
   "id": "7a97e021",
   "metadata": {},
   "source": [
    "## Set The Hypothesis"
   ]
  },
  {
   "cell_type": "markdown",
   "id": "008df9ab",
   "metadata": {},
   "source": [
    "Before we can do our tests, we have to understand what the hypotheses represent:"
   ]
  },
  {
   "cell_type": "markdown",
   "id": "e25684ec",
   "metadata": {},
   "source": [
    "- H0 - There is no difference\n",
    "\n",
    "- H1 - There is a significant difference in the specified direction"
   ]
  },
  {
   "cell_type": "markdown",
   "id": "38f5aca0",
   "metadata": {},
   "source": [
    " "
   ]
  },
  {
   "cell_type": "markdown",
   "id": "f0c0ceaf",
   "metadata": {},
   "source": [
    "The specified direction here refers to the nature of a **One-Tailed** Test\n",
    "\n",
    "Either:\n",
    "- Upper (Right Tailed) Test : H1 is greater than H0\n",
    "or\n",
    "- Lower (Left Tailed) Test : H1 is less than H0\n",
    "    \n",
    "--    \n",
    "    \n",
    "A **Two-Tailed** Test will measure if there is a significant effect/difference both upper and lower, and the significance will be divided between the *Upper* and *Lower* levels.\n",
    "\n",
    "e.g:\n",
    "\n",
    "------\n",
    "***Significance level = 0.05***\n",
    "\n",
    "**One Tailed** \\\n",
    "Higher - H1 is **Greater than** H0 by ***0.05*** \\\n",
    "Lower - H1 is **Less than** H0 by ***0.05***\n",
    "\n",
    "Two Tailed \n",
    "H1 is **Greater than** H0 by ***0.025***, or **Less Than H0** by ***0.025***\n"
   ]
  },
  {
   "cell_type": "markdown",
   "id": "4120a6b0",
   "metadata": {},
   "source": [
    "## Choose Significance / Confidence Level"
   ]
  },
  {
   "cell_type": "markdown",
   "id": "30022d0c",
   "metadata": {},
   "source": [
    "This is not something you have to programme, but: \\\n",
    "\n",
    "- Typically non-health related Significance levels would be a difference of **0.05**\n",
    "- More imperative hypotheses would have a significance level closer to **0.02**"
   ]
  },
  {
   "cell_type": "markdown",
   "id": "f0873583",
   "metadata": {},
   "source": [
    "  "
   ]
  },
  {
   "cell_type": "markdown",
   "id": "159845c4",
   "metadata": {},
   "source": [
    "## Sample"
   ]
  },
  {
   "cell_type": "markdown",
   "id": "67df0d83",
   "metadata": {},
   "source": [
    "We only need to sample an array here, as we will need to calculate it directly. "
   ]
  },
  {
   "cell_type": "code",
   "execution_count": null,
   "id": "f7387106",
   "metadata": {},
   "outputs": [],
   "source": [
    "#Sample 30, random state passengers from 1st class. This will return a list of prices from a df with 30 people from 3rd Class\n",
    "c1_sample = data[data['Pclass']==1]['Fare'].sample(30, random_state = 42)\n",
    "c1_sample.head()"
   ]
  },
  {
   "cell_type": "markdown",
   "id": "eda22c99",
   "metadata": {},
   "source": [
    " "
   ]
  },
  {
   "cell_type": "markdown",
   "id": "ff807874",
   "metadata": {},
   "source": [
    "## Compute Statistic"
   ]
  },
  {
   "cell_type": "markdown",
   "id": "03be4c98",
   "metadata": {},
   "source": [
    "Here we have checked if 1st class prices are different from 85 usd by sampling 30 1st class passengers and requiring a 5% significance."
   ]
  },
  {
   "cell_type": "code",
   "execution_count": null,
   "id": "188df141",
   "metadata": {},
   "outputs": [],
   "source": [
    "#compute statistics and p-value. Here we are using a one sample t-test.\n",
    "st.ttest_1samp(c3_sample,85)"
   ]
  },
  {
   "cell_type": "markdown",
   "id": "4409ee2b",
   "metadata": {},
   "source": [
    " "
   ]
  },
  {
   "cell_type": "markdown",
   "id": "da3da020",
   "metadata": {},
   "source": [
    "## Get P-Value"
   ]
  },
  {
   "cell_type": "code",
   "execution_count": null,
   "id": "cdae49ec",
   "metadata": {},
   "outputs": [],
   "source": [
    "#for the two tailed experiment\n",
    "\n",
    "# Perform one-sample t-test\n",
    "t_statistic, p_value = st.ttest_1samp(c3_sample,85)\n",
    "\n",
    "\n",
    "#for the single tailed experiment\n",
    "print(\"T-statistic:\", t_statistic)\n",
    "print(\"P-value:\", p_value)\n",
    "\n",
    "\n",
    "#for the two tailed experiment\n",
    "print(\"T-statistic:\", t_statistic)\n",
    "print(\"P-value:\", p_value/2)\n"
   ]
  },
  {
   "cell_type": "markdown",
   "id": "d07b22f5",
   "metadata": {},
   "source": [
    " "
   ]
  },
  {
   "cell_type": "markdown",
   "id": "46259a62",
   "metadata": {},
   "source": [
    "## Interpret Result"
   ]
  },
  {
   "cell_type": "code",
   "execution_count": 1,
   "id": "7ef06921",
   "metadata": {},
   "outputs": [
    {
     "name": "stdout",
     "output_type": "stream",
     "text": [
      "T-statistic: -2.7043232157601955\n",
      "P-value: 0.024221605135545964\n",
      "The result is statistically significant: Reject null hypothesis.\n"
     ]
    }
   ],
   "source": [
    "# Check if the result is statistically significant (common threshold of 0.05)\n",
    "if p_value < 0.05:\n",
    "    print(\"The result is statistically significant: Reject null hypothesis.\")\n",
    "else:\n",
    "    print(\"The result is not statistically significant: Fail to reject null hypothesis.\")"
   ]
  },
  {
   "cell_type": "markdown",
   "id": "d2cab8d2",
   "metadata": {},
   "source": [
    " "
   ]
  },
  {
   "cell_type": "code",
   "execution_count": null,
   "id": "36a937a5",
   "metadata": {},
   "outputs": [],
   "source": []
  },
  {
   "cell_type": "markdown",
   "id": "3e04f40c",
   "metadata": {},
   "source": [
    "## AB Testing"
   ]
  },
  {
   "cell_type": "markdown",
   "id": "f5305fcc",
   "metadata": {},
   "source": [
    "Independent Samples\n",
    "For two groups where we cannot match the observations to one another. \n",
    "In this case transactions from a website with different interfaces (a, b)"
   ]
  },
  {
   "cell_type": "code",
   "execution_count": null,
   "id": "35a791ce",
   "metadata": {},
   "outputs": [],
   "source": [
    "ab_test = pd.read_csv('ab_test.csv')\n",
    "ab_test.head()"
   ]
  },
  {
   "cell_type": "code",
   "execution_count": null,
   "id": "79a4ab2f",
   "metadata": {},
   "outputs": [],
   "source": [
    "#if we don't assume equal variance the test will be more robust\n",
    "st.ttest_ind(ab_test['a'], ab_test['b'], equal_var=False) "
   ]
  },
  {
   "cell_type": "code",
   "execution_count": null,
   "id": "f439ab93",
   "metadata": {},
   "outputs": [],
   "source": []
  },
  {
   "cell_type": "code",
   "execution_count": null,
   "id": "6902d5ca",
   "metadata": {},
   "outputs": [],
   "source": []
  },
  {
   "cell_type": "code",
   "execution_count": null,
   "id": "59dc2450",
   "metadata": {},
   "outputs": [],
   "source": []
  },
  {
   "cell_type": "code",
   "execution_count": null,
   "id": "d20f1ed8",
   "metadata": {},
   "outputs": [],
   "source": []
  },
  {
   "cell_type": "markdown",
   "id": "fa9adf02",
   "metadata": {},
   "source": [
    "# ANOVA"
   ]
  },
  {
   "cell_type": "code",
   "execution_count": null,
   "id": "e0d6a2e3",
   "metadata": {},
   "outputs": [],
   "source": []
  },
  {
   "cell_type": "code",
   "execution_count": null,
   "id": "29af726a",
   "metadata": {},
   "outputs": [],
   "source": []
  },
  {
   "cell_type": "code",
   "execution_count": null,
   "id": "fbe9f86f",
   "metadata": {},
   "outputs": [],
   "source": [
    "One-Way ANOVA (Analysis of Variance):\n",
    "Used to compare the means of three or more independent groups to determine if there's a significant difference between them.\n",
    "\n",
    "Two-Way ANOVA:\n",
    "Used to analyze the effects of two independent categorical variables on a continuous dependent variable."
   ]
  },
  {
   "cell_type": "code",
   "execution_count": null,
   "id": "3e57b80a",
   "metadata": {},
   "outputs": [],
   "source": []
  },
  {
   "cell_type": "markdown",
   "id": "0a7805d9",
   "metadata": {},
   "source": [
    "We typically use the following tests in the "
   ]
  },
  {
   "cell_type": "markdown",
   "id": "f6764b87",
   "metadata": {},
   "source": [
    "One-Sample Z-Test:\n",
    "Used to test the mean of a single sample against a known population mean when the population standard deviation is known.\n",
    "\n",
    "One-Sample T-Test:\n",
    "Used to test the mean of a single sample against a known or assumed population mean when the population standard deviation is unknown.\n",
    "\n",
    "Two-Sample Independent T-Test:\n",
    "Used to compare the means of two independent groups to determine if there's a significant difference between them.\n",
    "\n",
    "Paired Samples T-Test:\n",
    "Used to compare the means of two related groups, often before and after a treatment or intervention.\n",
    "\n",
    "One-Way ANOVA (Analysis of Variance):\n",
    "Used to compare the means of three or more independent groups to determine if there's a significant difference between them.\n",
    "\n",
    "Two-Way ANOVA:\n",
    "Used to analyze the effects of two independent categorical variables on a continuous dependent variable.\n",
    "\n",
    "Chi-Square Test:\n",
    "Used to assess the association between categorical variables by comparing observed and expected frequencies in a contingency table.\n",
    "\n",
    "Mann-Whitney U Test (Wilcoxon Rank-Sum Test):\n",
    "Non-parametric test used to compare the medians of two independent groups when assumptions for the t-test are not met.\n",
    "\n",
    "Kruskal-Wallis Test:\n",
    "Non-parametric equivalent of one-way ANOVA, used to compare the medians of three or more independent groups.\n",
    "\n",
    "Wilcoxon Signed-Rank Test:\n",
    "Non-parametric test used to compare the medians of two related groups (paired samples).\n",
    "\n",
    "Fisher's Exact Test:\n",
    "Used to determine if there's a significant association between two categorical variables in cases where the sample sizes are small.\n",
    "\n",
    "Binomial Test:\n",
    "Used to test if the proportion of successes in a single sample differs significantly from a hypothesized proportion.\n",
    "\n",
    "These are just a few examples of the many types of hypothesis tests available. The choice of test depends on your research question, the type of data you have, and the assumptions you can make about your data. It's important to select the appropriate test based on the characteristics of your data and the objectives of your analysis.\n",
    "\n",
    "\n",
    "\n",
    "\n"
   ]
  }
 ],
 "metadata": {
  "kernelspec": {
   "display_name": "Python 3 (ipykernel)",
   "language": "python",
   "name": "python3"
  },
  "language_info": {
   "codemirror_mode": {
    "name": "ipython",
    "version": 3
   },
   "file_extension": ".py",
   "mimetype": "text/x-python",
   "name": "python",
   "nbconvert_exporter": "python",
   "pygments_lexer": "ipython3",
   "version": "3.10.9"
  }
 },
 "nbformat": 4,
 "nbformat_minor": 5
}
