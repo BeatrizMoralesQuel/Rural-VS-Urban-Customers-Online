{
 "cells": [
  {
   "cell_type": "markdown",
   "id": "29400378",
   "metadata": {},
   "source": [
    "## Import Libraries & Load Data Set"
   ]
  },
  {
   "cell_type": "code",
   "execution_count": 1,
   "id": "8d2fa466",
   "metadata": {},
   "outputs": [],
   "source": [
    "import pandas as pd\n",
    "import numpy as np\n",
    "import scipy.stats as st\n",
    "import matplotlib.pyplot as plt\n",
    "import seaborn as sns"
   ]
  },
  {
   "cell_type": "code",
   "execution_count": 2,
   "id": "8b6a64a9",
   "metadata": {},
   "outputs": [
    {
     "name": "stderr",
     "output_type": "stream",
     "text": [
      "/var/folders/75/lxv2pt816y3g7mh_b0zy07mw0000gn/T/ipykernel_72009/2647096559.py:1: DtypeWarning: Columns (2) have mixed types. Specify dtype option on import or set low_memory=False.\n",
      "  data = pd.read_csv('sales_rural_urban.csv')\n"
     ]
    },
    {
     "data": {
      "text/html": [
       "<div>\n",
       "<style scoped>\n",
       "    .dataframe tbody tr th:only-of-type {\n",
       "        vertical-align: middle;\n",
       "    }\n",
       "\n",
       "    .dataframe tbody tr th {\n",
       "        vertical-align: top;\n",
       "    }\n",
       "\n",
       "    .dataframe thead th {\n",
       "        text-align: right;\n",
       "    }\n",
       "</style>\n",
       "<table border=\"1\" class=\"dataframe\">\n",
       "  <thead>\n",
       "    <tr style=\"text-align: right;\">\n",
       "      <th></th>\n",
       "      <th>zip</th>\n",
       "      <th>rural_urban</th>\n",
       "      <th>order_id</th>\n",
       "      <th>status</th>\n",
       "      <th>item_id</th>\n",
       "      <th>qty_ordered</th>\n",
       "      <th>price</th>\n",
       "      <th>value</th>\n",
       "      <th>discount_amount</th>\n",
       "      <th>discount_percent</th>\n",
       "      <th>...</th>\n",
       "      <th>middle_initial</th>\n",
       "      <th>last_name</th>\n",
       "      <th>gender</th>\n",
       "      <th>age</th>\n",
       "      <th>e_mail</th>\n",
       "      <th>place_name</th>\n",
       "      <th>county</th>\n",
       "      <th>city</th>\n",
       "      <th>state</th>\n",
       "      <th>region</th>\n",
       "    </tr>\n",
       "  </thead>\n",
       "  <tbody>\n",
       "    <tr>\n",
       "      <th>0</th>\n",
       "      <td>2889</td>\n",
       "      <td>urban</td>\n",
       "      <td>100354687</td>\n",
       "      <td>order_refunded</td>\n",
       "      <td>574790</td>\n",
       "      <td>2</td>\n",
       "      <td>2900.0</td>\n",
       "      <td>2900.0</td>\n",
       "      <td>0.0</td>\n",
       "      <td>0.0</td>\n",
       "      <td>...</td>\n",
       "      <td>K</td>\n",
       "      <td>Dewald</td>\n",
       "      <td>M</td>\n",
       "      <td>52</td>\n",
       "      <td>bernard.dewald@hotmail.co.uk</td>\n",
       "      <td>Warwick</td>\n",
       "      <td>Kent</td>\n",
       "      <td>Warwick</td>\n",
       "      <td>RI</td>\n",
       "      <td>Northeast</td>\n",
       "    </tr>\n",
       "    <tr>\n",
       "      <th>1</th>\n",
       "      <td>2889</td>\n",
       "      <td>urban</td>\n",
       "      <td>100356322</td>\n",
       "      <td>canceled</td>\n",
       "      <td>577804</td>\n",
       "      <td>2</td>\n",
       "      <td>1000.0</td>\n",
       "      <td>1000.0</td>\n",
       "      <td>0.0</td>\n",
       "      <td>0.0</td>\n",
       "      <td>...</td>\n",
       "      <td>K</td>\n",
       "      <td>Dewald</td>\n",
       "      <td>M</td>\n",
       "      <td>52</td>\n",
       "      <td>bernard.dewald@hotmail.co.uk</td>\n",
       "      <td>Warwick</td>\n",
       "      <td>Kent</td>\n",
       "      <td>Warwick</td>\n",
       "      <td>RI</td>\n",
       "      <td>Northeast</td>\n",
       "    </tr>\n",
       "    <tr>\n",
       "      <th>2</th>\n",
       "      <td>8076</td>\n",
       "      <td>urban</td>\n",
       "      <td>100354701</td>\n",
       "      <td>complete</td>\n",
       "      <td>574814</td>\n",
       "      <td>4</td>\n",
       "      <td>34.5</td>\n",
       "      <td>103.5</td>\n",
       "      <td>0.0</td>\n",
       "      <td>0.0</td>\n",
       "      <td>...</td>\n",
       "      <td>J</td>\n",
       "      <td>Stough</td>\n",
       "      <td>M</td>\n",
       "      <td>60</td>\n",
       "      <td>florentino.stough@gmail.com</td>\n",
       "      <td>Riverton</td>\n",
       "      <td>Burlington</td>\n",
       "      <td>Riverton</td>\n",
       "      <td>NJ</td>\n",
       "      <td>Northeast</td>\n",
       "    </tr>\n",
       "    <tr>\n",
       "      <th>3</th>\n",
       "      <td>3907</td>\n",
       "      <td>rural</td>\n",
       "      <td>100354729</td>\n",
       "      <td>order_refunded</td>\n",
       "      <td>574882</td>\n",
       "      <td>3</td>\n",
       "      <td>54.0</td>\n",
       "      <td>108.0</td>\n",
       "      <td>0.0</td>\n",
       "      <td>0.0</td>\n",
       "      <td>...</td>\n",
       "      <td>B</td>\n",
       "      <td>Cyphers</td>\n",
       "      <td>M</td>\n",
       "      <td>67</td>\n",
       "      <td>horacio.cyphers@hotmail.co.uk</td>\n",
       "      <td>Ogunquit</td>\n",
       "      <td>York</td>\n",
       "      <td>Ogunquit</td>\n",
       "      <td>ME</td>\n",
       "      <td>Northeast</td>\n",
       "    </tr>\n",
       "    <tr>\n",
       "      <th>4</th>\n",
       "      <td>5846</td>\n",
       "      <td>rural</td>\n",
       "      <td>100354759</td>\n",
       "      <td>received</td>\n",
       "      <td>574938</td>\n",
       "      <td>2</td>\n",
       "      <td>45.5</td>\n",
       "      <td>45.5</td>\n",
       "      <td>0.0</td>\n",
       "      <td>0.0</td>\n",
       "      <td>...</td>\n",
       "      <td>D</td>\n",
       "      <td>Fleet</td>\n",
       "      <td>F</td>\n",
       "      <td>37</td>\n",
       "      <td>fran.fleet@ibm.com</td>\n",
       "      <td>Island Pond</td>\n",
       "      <td>Essex</td>\n",
       "      <td>Island Pond</td>\n",
       "      <td>VT</td>\n",
       "      <td>Northeast</td>\n",
       "    </tr>\n",
       "  </tbody>\n",
       "</table>\n",
       "<p>5 rows × 30 columns</p>\n",
       "</div>"
      ],
      "text/plain": [
       "    zip rural_urban   order_id          status  item_id  qty_ordered   price  \\\n",
       "0  2889       urban  100354687  order_refunded   574790            2  2900.0   \n",
       "1  2889       urban  100356322        canceled   577804            2  1000.0   \n",
       "2  8076       urban  100354701        complete   574814            4    34.5   \n",
       "3  3907       rural  100354729  order_refunded   574882            3    54.0   \n",
       "4  5846       rural  100354759        received   574938            2    45.5   \n",
       "\n",
       "    value  discount_amount  discount_percent  ...  middle_initial last_name  \\\n",
       "0  2900.0              0.0               0.0  ...               K    Dewald   \n",
       "1  1000.0              0.0               0.0  ...               K    Dewald   \n",
       "2   103.5              0.0               0.0  ...               J    Stough   \n",
       "3   108.0              0.0               0.0  ...               B   Cyphers   \n",
       "4    45.5              0.0               0.0  ...               D     Fleet   \n",
       "\n",
       "  gender  age                         e_mail   place_name      county  \\\n",
       "0      M   52   bernard.dewald@hotmail.co.uk      Warwick        Kent   \n",
       "1      M   52   bernard.dewald@hotmail.co.uk      Warwick        Kent   \n",
       "2      M   60    florentino.stough@gmail.com     Riverton  Burlington   \n",
       "3      M   67  horacio.cyphers@hotmail.co.uk     Ogunquit        York   \n",
       "4      F   37             fran.fleet@ibm.com  Island Pond       Essex   \n",
       "\n",
       "          city state     region  \n",
       "0      Warwick    RI  Northeast  \n",
       "1      Warwick    RI  Northeast  \n",
       "2     Riverton    NJ  Northeast  \n",
       "3     Ogunquit    ME  Northeast  \n",
       "4  Island Pond    VT  Northeast  \n",
       "\n",
       "[5 rows x 30 columns]"
      ]
     },
     "execution_count": 2,
     "metadata": {},
     "output_type": "execute_result"
    }
   ],
   "source": [
    "data = pd.read_csv('sales_rural_urban.csv')\n",
    "data.head()"
   ]
  },
  {
   "cell_type": "markdown",
   "id": "7a97e021",
   "metadata": {},
   "source": [
    "## Set The Hypothesis"
   ]
  },
  {
   "cell_type": "markdown",
   "id": "008df9ab",
   "metadata": {},
   "source": [
    "Before we can do our tests, we have to understand what the hypotheses represent:"
   ]
  },
  {
   "cell_type": "markdown",
   "id": "e25684ec",
   "metadata": {},
   "source": [
    "- H0 - There is no difference in the spend between consumers in their 30s and 40s in rural areas with the ones at the city\n",
    "\n",
    "- H1 - There is a significant difference in the spend between consumers in their 30s and 40s in rural areas with the ones at the city"
   ]
  },
  {
   "cell_type": "markdown",
   "id": "38f5aca0",
   "metadata": {},
   "source": [
    " "
   ]
  },
  {
   "cell_type": "markdown",
   "id": "f0c0ceaf",
   "metadata": {},
   "source": [
    "The specified direction here refers to the nature of a **One-Tailed** Test\n",
    "\n",
    "Either:\n",
    "- Upper (Right Tailed) Test : H1 is greater than H0\n",
    "or\n",
    "- Lower (Left Tailed) Test : H1 is less than H0\n",
    "------\n",
    "***Significance level = 0.05***\n",
    "\n",
    "**One Tailed** \\\n",
    "Higher - H1 is **Greater than** H0 by ***0.05*** \\\n",
    "Lower - H1 is **Less than** H0 by ***0.05***"
   ]
  },
  {
   "cell_type": "markdown",
   "id": "4120a6b0",
   "metadata": {},
   "source": [
    "## Choose Significance / Confidence Level"
   ]
  },
  {
   "cell_type": "markdown",
   "id": "30022d0c",
   "metadata": {},
   "source": [
    "This is not something you have to programme, but: \\\n",
    "\n",
    "- Typically non-health related Significance levels would be a difference of **0.05**\n",
    "- More imperative hypotheses would have a significance level closer to **0.02**"
   ]
  },
  {
   "cell_type": "markdown",
   "id": "f0873583",
   "metadata": {},
   "source": [
    "  "
   ]
  },
  {
   "cell_type": "markdown",
   "id": "159845c4",
   "metadata": {},
   "source": [
    "## Sample"
   ]
  },
  {
   "cell_type": "markdown",
   "id": "67df0d83",
   "metadata": {},
   "source": [
    "We only need to sample an array here, as we will need to calculate it directly. "
   ]
  },
  {
   "cell_type": "code",
   "execution_count": 3,
   "id": "f7387106",
   "metadata": {},
   "outputs": [
    {
     "data": {
      "text/plain": [
       "16588       0.0\n",
       "24680     109.9\n",
       "8636       49.8\n",
       "281698     72.0\n",
       "124542    200.0\n",
       "Name: total, dtype: float64"
      ]
     },
     "execution_count": 3,
     "metadata": {},
     "output_type": "execute_result"
    }
   ],
   "source": [
    "#Sample 500, random state costumers from rural areas between 30 and 50 years old. This will return a list of total spend from our df.\n",
    "\n",
    "rural_sample = round(data[(data['rural_urban']=='rural') & (data['age']>29) & (data['age']<50)]['total'],2).sample(500, random_state = 42)\n",
    "rural_sample.head()                                                                                                   "
   ]
  },
  {
   "cell_type": "code",
   "execution_count": 4,
   "id": "74068a28",
   "metadata": {},
   "outputs": [
    {
     "name": "stdout",
     "output_type": "stream",
     "text": [
      "The AVG spend of customers in urban areas between 30 and 50 is 812.25\n"
     ]
    }
   ],
   "source": [
    "print('The AVG spend of customers in urban areas between 30 and 50 is', round(data[(data['rural_urban']=='urban') & (data['age']>29) & (data['age']<50)]['total'].mean(),2))\n"
   ]
  },
  {
   "cell_type": "markdown",
   "id": "eda22c99",
   "metadata": {},
   "source": [
    " "
   ]
  },
  {
   "cell_type": "markdown",
   "id": "ff807874",
   "metadata": {},
   "source": [
    "## Compute Statistic"
   ]
  },
  {
   "cell_type": "markdown",
   "id": "03be4c98",
   "metadata": {},
   "source": [
    "Here we have checked if total spend by costumers from rural areas is different from 812.25 usd by sampling 500 costumers from rural areas and requiring a 5% significance."
   ]
  },
  {
   "cell_type": "code",
   "execution_count": 5,
   "id": "188df141",
   "metadata": {},
   "outputs": [
    {
     "data": {
      "text/plain": [
       "TtestResult(statistic=2.437953337128637, pvalue=0.015118669918280116, df=499)"
      ]
     },
     "execution_count": 5,
     "metadata": {},
     "output_type": "execute_result"
    }
   ],
   "source": [
    "#compute statistics and p-value. Here we are using a one sample t-test.\n",
    "\n",
    "st.ttest_1samp(rural_sample,812.25)"
   ]
  },
  {
   "cell_type": "markdown",
   "id": "4409ee2b",
   "metadata": {},
   "source": [
    " "
   ]
  },
  {
   "cell_type": "markdown",
   "id": "da3da020",
   "metadata": {},
   "source": [
    "## Get P-Value"
   ]
  },
  {
   "cell_type": "code",
   "execution_count": 6,
   "id": "cdae49ec",
   "metadata": {},
   "outputs": [
    {
     "name": "stdout",
     "output_type": "stream",
     "text": [
      "T-statistic: 2.437953337128637\n",
      "P-value: 0.015118669918280116\n"
     ]
    }
   ],
   "source": [
    "# Perform one-sample t-test\n",
    "t_statistic, p_value = st.ttest_1samp(rural_sample,812.25)\n",
    "\n",
    "\n",
    "#for the single tailed experiment\n",
    "print(\"T-statistic:\", t_statistic)\n",
    "print(\"P-value:\", p_value)\n"
   ]
  },
  {
   "cell_type": "markdown",
   "id": "d07b22f5",
   "metadata": {},
   "source": [
    " "
   ]
  },
  {
   "cell_type": "markdown",
   "id": "46259a62",
   "metadata": {},
   "source": [
    "## Interpret Result"
   ]
  },
  {
   "cell_type": "code",
   "execution_count": 7,
   "id": "7ef06921",
   "metadata": {},
   "outputs": [
    {
     "name": "stdout",
     "output_type": "stream",
     "text": [
      "The result is statistically significant: Reject null hypothesis.\n"
     ]
    }
   ],
   "source": [
    "# Check if the result is statistically significant (common threshold of 0.05)\n",
    "if p_value < 0.05:\n",
    "    print(\"The result is statistically significant: Reject null hypothesis.\")\n",
    "else:\n",
    "    print(\"The result is not statistically significant: Fail to reject null hypothesis.\")"
   ]
  },
  {
   "cell_type": "markdown",
   "id": "d2cab8d2",
   "metadata": {},
   "source": [
    " "
   ]
  },
  {
   "cell_type": "code",
   "execution_count": null,
   "id": "36a937a5",
   "metadata": {},
   "outputs": [],
   "source": []
  }
 ],
 "metadata": {
  "kernelspec": {
   "display_name": "Python 3 (ipykernel)",
   "language": "python",
   "name": "python3"
  },
  "language_info": {
   "codemirror_mode": {
    "name": "ipython",
    "version": 3
   },
   "file_extension": ".py",
   "mimetype": "text/x-python",
   "name": "python",
   "nbconvert_exporter": "python",
   "pygments_lexer": "ipython3",
   "version": "3.10.9"
  }
 },
 "nbformat": 4,
 "nbformat_minor": 5
}
